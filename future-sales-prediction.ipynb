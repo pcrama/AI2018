{
 "cells": [
  {
   "cell_type": "markdown",
   "metadata": {
    "ein.tags": "worksheet-0",
    "slideshow": {
     "slide_type": "-"
    }
   },
   "source": [
    "# Predict Future Sales (Kaggle playground)\n",
    "\n",
    "See [Predict Future Sales on Kaggle](https://www.kaggle.com/c/competitive-data-science-predict-future-sales).\n",
    "\n",
    "I accepted the terms & conditions then downloaded the data.\n",
    "`kaggle competitions download -c competitive-data-science-predict-future-sales`\n",
    "\n",
    "'Prelude' copied from lesson3-rossmann:"
   ]
  },
  {
   "cell_type": "code",
   "execution_count": 1,
   "metadata": {
    "autoscroll": false,
    "collapsed": false,
    "ein.hycell": false,
    "ein.tags": "worksheet-0",
    "slideshow": {
     "slide_type": "-"
    }
   },
   "outputs": [],
   "source": [
    "%matplotlib inline\n",
    "%reload_ext autoreload\n",
    "%autoreload 2\n",
    "import functools\n",
    "from fastai.structured import *\n",
    "from fastai.column_data import *\n",
    "np.set_printoptions(threshold=50, edgeitems=20)\n",
    "from IPython.display import HTML\n",
    "\n",
    "PATH='data/predict-future-sales/'"
   ]
  },
  {
   "cell_type": "code",
   "execution_count": 2,
   "metadata": {
    "autoscroll": false,
    "collapsed": false,
    "ein.hycell": false,
    "ein.tags": "worksheet-0",
    "slideshow": {
     "slide_type": "-"
    }
   },
   "outputs": [
    {
     "name": "stdout",
     "output_type": "stream",
     "text": [
      "item_categories.csv  sales_train.csv\t       shops.csv\r\n",
      "items.csv\t     sample_submission.csv.gz  test.csv.gz\r\n"
     ]
    }
   ],
   "source": [
    "!ls {PATH}"
   ]
  },
  {
   "cell_type": "markdown",
   "metadata": {
    "ein.tags": "worksheet-0",
    "slideshow": {
     "slide_type": "-"
    }
   },
   "source": [
    "## Import data"
   ]
  },
  {
   "cell_type": "code",
   "execution_count": 3,
   "metadata": {
    "autoscroll": false,
    "collapsed": false,
    "ein.hycell": false,
    "ein.tags": "worksheet-0",
    "slideshow": {
     "slide_type": "-"
    }
   },
   "outputs": [],
   "source": [
    "table_names = ['item_categories', 'items', 'shops', 'sales_train', 'test']\n",
    "\n",
    "def load_table(table, root_path):\n",
    "    fname = os.path.join(root_path, f\"{table}.csv\")\n",
    "    if os.path.exists(fname):\n",
    "        compression = None\n",
    "    else:\n",
    "        fname = f\"{fname}.gz\"\n",
    "        compression = 'gzip'\n",
    "    \n",
    "    return pd.read_csv(fname, compression=compression)\n",
    "\n",
    "tables = [load_table(t, root_path=PATH) for t in table_names]"
   ]
  },
  {
   "cell_type": "code",
   "execution_count": 4,
   "metadata": {
    "autoscroll": false,
    "collapsed": false,
    "ein.hycell": false,
    "ein.tags": "worksheet-0",
    "slideshow": {
     "slide_type": "-"
    }
   },
   "outputs": [
    {
     "data": {
      "text/html": [
       "<div>\n<style scoped>\n    .dataframe tbody tr th:only-of-type {\n        vertical-align: middle;\n    }\n\n    .dataframe tbody tr th {\n        vertical-align: top;\n    }\n\n    .dataframe thead th {\n        text-align: right;\n    }\n</style>\n<table border=\"1\" class=\"dataframe\">\n  <thead>\n    <tr style=\"text-align: right;\">\n      <th></th>\n      <th>item_category_name</th>\n      <th>item_category_id</th>\n    </tr>\n  </thead>\n  <tbody>\n    <tr>\n      <th>0</th>\n      <td>PC - Гарнитуры/Наушники</td>\n      <td>0</td>\n    </tr>\n    <tr>\n      <th>1</th>\n      <td>Аксессуары - PS2</td>\n      <td>1</td>\n    </tr>\n    <tr>\n      <th>2</th>\n      <td>Аксессуары - PS3</td>\n      <td>2</td>\n    </tr>\n    <tr>\n      <th>3</th>\n      <td>Аксессуары - PS4</td>\n      <td>3</td>\n    </tr>\n    <tr>\n      <th>4</th>\n      <td>Аксессуары - PSP</td>\n      <td>4</td>\n    </tr>\n  </tbody>\n</table>\n</div>"
      ],
      "text/plain": [
       "        item_category_name  item_category_id\n0  PC - Гарнитуры/Наушники                 0\n1         Аксессуары - PS2                 1\n2         Аксессуары - PS3                 2\n3         Аксессуары - PS4                 3\n4         Аксессуары - PSP                 4"
      ]
     },
     "metadata": {},
     "output_type": "display_data"
    },
    {
     "data": {
      "text/html": [
       "<div>\n<style scoped>\n    .dataframe tbody tr th:only-of-type {\n        vertical-align: middle;\n    }\n\n    .dataframe tbody tr th {\n        vertical-align: top;\n    }\n\n    .dataframe thead th {\n        text-align: right;\n    }\n</style>\n<table border=\"1\" class=\"dataframe\">\n  <thead>\n    <tr style=\"text-align: right;\">\n      <th></th>\n      <th>item_name</th>\n      <th>item_id</th>\n      <th>item_category_id</th>\n    </tr>\n  </thead>\n  <tbody>\n    <tr>\n      <th>0</th>\n      <td>! ВО ВЛАСТИ НАВАЖДЕНИЯ (ПЛАСТ.)         D</td>\n      <td>0</td>\n      <td>40</td>\n    </tr>\n    <tr>\n      <th>1</th>\n      <td>!ABBYY FineReader 12 Professional Edition Full...</td>\n      <td>1</td>\n      <td>76</td>\n    </tr>\n    <tr>\n      <th>2</th>\n      <td>***В ЛУЧАХ СЛАВЫ   (UNV)                    D</td>\n      <td>2</td>\n      <td>40</td>\n    </tr>\n    <tr>\n      <th>3</th>\n      <td>***ГОЛУБАЯ ВОЛНА  (Univ)                      D</td>\n      <td>3</td>\n      <td>40</td>\n    </tr>\n    <tr>\n      <th>4</th>\n      <td>***КОРОБКА (СТЕКЛО)                       D</td>\n      <td>4</td>\n      <td>40</td>\n    </tr>\n  </tbody>\n</table>\n</div>"
      ],
      "text/plain": [
       "                                           item_name  item_id  \\\n0          ! ВО ВЛАСТИ НАВАЖДЕНИЯ (ПЛАСТ.)         D        0   \n1  !ABBYY FineReader 12 Professional Edition Full...        1   \n2      ***В ЛУЧАХ СЛАВЫ   (UNV)                    D        2   \n3    ***ГОЛУБАЯ ВОЛНА  (Univ)                      D        3   \n4        ***КОРОБКА (СТЕКЛО)                       D        4   \n\n   item_category_id  \n0                40  \n1                76  \n2                40  \n3                40  \n4                40  "
      ]
     },
     "metadata": {},
     "output_type": "display_data"
    },
    {
     "data": {
      "text/html": [
       "<div>\n<style scoped>\n    .dataframe tbody tr th:only-of-type {\n        vertical-align: middle;\n    }\n\n    .dataframe tbody tr th {\n        vertical-align: top;\n    }\n\n    .dataframe thead th {\n        text-align: right;\n    }\n</style>\n<table border=\"1\" class=\"dataframe\">\n  <thead>\n    <tr style=\"text-align: right;\">\n      <th></th>\n      <th>shop_name</th>\n      <th>shop_id</th>\n    </tr>\n  </thead>\n  <tbody>\n    <tr>\n      <th>0</th>\n      <td>!Якутск Орджоникидзе, 56 фран</td>\n      <td>0</td>\n    </tr>\n    <tr>\n      <th>1</th>\n      <td>!Якутск ТЦ \"Центральный\" фран</td>\n      <td>1</td>\n    </tr>\n    <tr>\n      <th>2</th>\n      <td>Адыгея ТЦ \"Мега\"</td>\n      <td>2</td>\n    </tr>\n    <tr>\n      <th>3</th>\n      <td>Балашиха ТРК \"Октябрь-Киномир\"</td>\n      <td>3</td>\n    </tr>\n    <tr>\n      <th>4</th>\n      <td>Волжский ТЦ \"Волга Молл\"</td>\n      <td>4</td>\n    </tr>\n  </tbody>\n</table>\n</div>"
      ],
      "text/plain": [
       "                        shop_name  shop_id\n0   !Якутск Орджоникидзе, 56 фран        0\n1   !Якутск ТЦ \"Центральный\" фран        1\n2                Адыгея ТЦ \"Мега\"        2\n3  Балашиха ТРК \"Октябрь-Киномир\"        3\n4        Волжский ТЦ \"Волга Молл\"        4"
      ]
     },
     "metadata": {},
     "output_type": "display_data"
    },
    {
     "data": {
      "text/html": [
       "<div>\n<style scoped>\n    .dataframe tbody tr th:only-of-type {\n        vertical-align: middle;\n    }\n\n    .dataframe tbody tr th {\n        vertical-align: top;\n    }\n\n    .dataframe thead th {\n        text-align: right;\n    }\n</style>\n<table border=\"1\" class=\"dataframe\">\n  <thead>\n    <tr style=\"text-align: right;\">\n      <th></th>\n      <th>date</th>\n      <th>date_block_num</th>\n      <th>shop_id</th>\n      <th>item_id</th>\n      <th>item_price</th>\n      <th>item_cnt_day</th>\n    </tr>\n  </thead>\n  <tbody>\n    <tr>\n      <th>0</th>\n      <td>02.01.2013</td>\n      <td>0</td>\n      <td>59</td>\n      <td>22154</td>\n      <td>999.00</td>\n      <td>1.0</td>\n    </tr>\n    <tr>\n      <th>1</th>\n      <td>03.01.2013</td>\n      <td>0</td>\n      <td>25</td>\n      <td>2552</td>\n      <td>899.00</td>\n      <td>1.0</td>\n    </tr>\n    <tr>\n      <th>2</th>\n      <td>05.01.2013</td>\n      <td>0</td>\n      <td>25</td>\n      <td>2552</td>\n      <td>899.00</td>\n      <td>-1.0</td>\n    </tr>\n    <tr>\n      <th>3</th>\n      <td>06.01.2013</td>\n      <td>0</td>\n      <td>25</td>\n      <td>2554</td>\n      <td>1709.05</td>\n      <td>1.0</td>\n    </tr>\n    <tr>\n      <th>4</th>\n      <td>15.01.2013</td>\n      <td>0</td>\n      <td>25</td>\n      <td>2555</td>\n      <td>1099.00</td>\n      <td>1.0</td>\n    </tr>\n  </tbody>\n</table>\n</div>"
      ],
      "text/plain": [
       "         date  date_block_num  shop_id  item_id  item_price  item_cnt_day\n0  02.01.2013               0       59    22154      999.00           1.0\n1  03.01.2013               0       25     2552      899.00           1.0\n2  05.01.2013               0       25     2552      899.00          -1.0\n3  06.01.2013               0       25     2554     1709.05           1.0\n4  15.01.2013               0       25     2555     1099.00           1.0"
      ]
     },
     "metadata": {},
     "output_type": "display_data"
    },
    {
     "data": {
      "text/html": [
       "<div>\n<style scoped>\n    .dataframe tbody tr th:only-of-type {\n        vertical-align: middle;\n    }\n\n    .dataframe tbody tr th {\n        vertical-align: top;\n    }\n\n    .dataframe thead th {\n        text-align: right;\n    }\n</style>\n<table border=\"1\" class=\"dataframe\">\n  <thead>\n    <tr style=\"text-align: right;\">\n      <th></th>\n      <th>ID</th>\n      <th>shop_id</th>\n      <th>item_id</th>\n    </tr>\n  </thead>\n  <tbody>\n    <tr>\n      <th>0</th>\n      <td>0</td>\n      <td>5</td>\n      <td>5037</td>\n    </tr>\n    <tr>\n      <th>1</th>\n      <td>1</td>\n      <td>5</td>\n      <td>5320</td>\n    </tr>\n    <tr>\n      <th>2</th>\n      <td>2</td>\n      <td>5</td>\n      <td>5233</td>\n    </tr>\n    <tr>\n      <th>3</th>\n      <td>3</td>\n      <td>5</td>\n      <td>5232</td>\n    </tr>\n    <tr>\n      <th>4</th>\n      <td>4</td>\n      <td>5</td>\n      <td>5268</td>\n    </tr>\n  </tbody>\n</table>\n</div>"
      ],
      "text/plain": [
       "   ID  shop_id  item_id\n0   0        5     5037\n1   1        5     5320\n2   2        5     5233\n3   3        5     5232\n4   4        5     5268"
      ]
     },
     "metadata": {},
     "output_type": "display_data"
    }
   ],
   "source": [
    "for t in tables: display(t.head())"
   ]
  },
  {
   "cell_type": "code",
   "execution_count": 5,
   "metadata": {
    "autoscroll": false,
    "collapsed": false,
    "ein.hycell": false,
    "ein.tags": "worksheet-0",
    "slideshow": {
     "slide_type": "-"
    }
   },
   "outputs": [
    {
     "data": {
      "text/html": [
       "<div>\n<style scoped>\n    .dataframe tbody tr th:only-of-type {\n        vertical-align: middle;\n    }\n\n    .dataframe tbody tr th {\n        vertical-align: top;\n    }\n\n    .dataframe thead th {\n        text-align: right;\n    }\n</style>\n<table border=\"1\" class=\"dataframe\">\n  <thead>\n    <tr style=\"text-align: right;\">\n      <th></th>\n      <th>item_category_name</th>\n      <th>item_category_id</th>\n    </tr>\n  </thead>\n  <tbody>\n    <tr>\n      <th>count</th>\n      <td>NaN</td>\n      <td>84</td>\n    </tr>\n    <tr>\n      <th>mean</th>\n      <td>NaN</td>\n      <td>41.5</td>\n    </tr>\n    <tr>\n      <th>std</th>\n      <td>NaN</td>\n      <td>24.3926</td>\n    </tr>\n    <tr>\n      <th>min</th>\n      <td>NaN</td>\n      <td>0</td>\n    </tr>\n    <tr>\n      <th>25%</th>\n      <td>NaN</td>\n      <td>20.75</td>\n    </tr>\n    <tr>\n      <th>50%</th>\n      <td>NaN</td>\n      <td>41.5</td>\n    </tr>\n    <tr>\n      <th>75%</th>\n      <td>NaN</td>\n      <td>62.25</td>\n    </tr>\n    <tr>\n      <th>max</th>\n      <td>NaN</td>\n      <td>83</td>\n    </tr>\n    <tr>\n      <th>counts</th>\n      <td>84</td>\n      <td>84</td>\n    </tr>\n    <tr>\n      <th>uniques</th>\n      <td>84</td>\n      <td>84</td>\n    </tr>\n    <tr>\n      <th>missing</th>\n      <td>0</td>\n      <td>0</td>\n    </tr>\n    <tr>\n      <th>missing_perc</th>\n      <td>0%</td>\n      <td>0%</td>\n    </tr>\n    <tr>\n      <th>types</th>\n      <td>unique</td>\n      <td>numeric</td>\n    </tr>\n  </tbody>\n</table>\n</div>"
      ],
      "text/plain": [
       "             item_category_name item_category_id\ncount                       NaN               84\nmean                        NaN             41.5\nstd                         NaN          24.3926\nmin                         NaN                0\n25%                         NaN            20.75\n50%                         NaN             41.5\n75%                         NaN            62.25\nmax                         NaN               83\ncounts                       84               84\nuniques                      84               84\nmissing                       0                0\nmissing_perc                 0%               0%\ntypes                    unique          numeric"
      ]
     },
     "metadata": {},
     "output_type": "display_data"
    },
    {
     "data": {
      "text/html": [
       "<div>\n<style scoped>\n    .dataframe tbody tr th:only-of-type {\n        vertical-align: middle;\n    }\n\n    .dataframe tbody tr th {\n        vertical-align: top;\n    }\n\n    .dataframe thead th {\n        text-align: right;\n    }\n</style>\n<table border=\"1\" class=\"dataframe\">\n  <thead>\n    <tr style=\"text-align: right;\">\n      <th></th>\n      <th>item_name</th>\n      <th>item_id</th>\n      <th>item_category_id</th>\n    </tr>\n  </thead>\n  <tbody>\n    <tr>\n      <th>count</th>\n      <td>NaN</td>\n      <td>22170</td>\n      <td>22170</td>\n    </tr>\n    <tr>\n      <th>mean</th>\n      <td>NaN</td>\n      <td>11084.5</td>\n      <td>46.2908</td>\n    </tr>\n    <tr>\n      <th>std</th>\n      <td>NaN</td>\n      <td>6400.07</td>\n      <td>15.9415</td>\n    </tr>\n    <tr>\n      <th>min</th>\n      <td>NaN</td>\n      <td>0</td>\n      <td>0</td>\n    </tr>\n    <tr>\n      <th>25%</th>\n      <td>NaN</td>\n      <td>5542.25</td>\n      <td>37</td>\n    </tr>\n    <tr>\n      <th>50%</th>\n      <td>NaN</td>\n      <td>11084.5</td>\n      <td>40</td>\n    </tr>\n    <tr>\n      <th>75%</th>\n      <td>NaN</td>\n      <td>16626.8</td>\n      <td>58</td>\n    </tr>\n    <tr>\n      <th>max</th>\n      <td>NaN</td>\n      <td>22169</td>\n      <td>83</td>\n    </tr>\n    <tr>\n      <th>counts</th>\n      <td>22170</td>\n      <td>22170</td>\n      <td>22170</td>\n    </tr>\n    <tr>\n      <th>uniques</th>\n      <td>22170</td>\n      <td>22170</td>\n      <td>84</td>\n    </tr>\n    <tr>\n      <th>missing</th>\n      <td>0</td>\n      <td>0</td>\n      <td>0</td>\n    </tr>\n    <tr>\n      <th>missing_perc</th>\n      <td>0%</td>\n      <td>0%</td>\n      <td>0%</td>\n    </tr>\n    <tr>\n      <th>types</th>\n      <td>unique</td>\n      <td>numeric</td>\n      <td>numeric</td>\n    </tr>\n  </tbody>\n</table>\n</div>"
      ],
      "text/plain": [
       "             item_name  item_id item_category_id\ncount              NaN    22170            22170\nmean               NaN  11084.5          46.2908\nstd                NaN  6400.07          15.9415\nmin                NaN        0                0\n25%                NaN  5542.25               37\n50%                NaN  11084.5               40\n75%                NaN  16626.8               58\nmax                NaN    22169               83\ncounts           22170    22170            22170\nuniques          22170    22170               84\nmissing              0        0                0\nmissing_perc        0%       0%               0%\ntypes           unique  numeric          numeric"
      ]
     },
     "metadata": {},
     "output_type": "display_data"
    },
    {
     "data": {
      "text/html": [
       "<div>\n<style scoped>\n    .dataframe tbody tr th:only-of-type {\n        vertical-align: middle;\n    }\n\n    .dataframe tbody tr th {\n        vertical-align: top;\n    }\n\n    .dataframe thead th {\n        text-align: right;\n    }\n</style>\n<table border=\"1\" class=\"dataframe\">\n  <thead>\n    <tr style=\"text-align: right;\">\n      <th></th>\n      <th>shop_name</th>\n      <th>shop_id</th>\n    </tr>\n  </thead>\n  <tbody>\n    <tr>\n      <th>count</th>\n      <td>NaN</td>\n      <td>60</td>\n    </tr>\n    <tr>\n      <th>mean</th>\n      <td>NaN</td>\n      <td>29.5</td>\n    </tr>\n    <tr>\n      <th>std</th>\n      <td>NaN</td>\n      <td>17.4642</td>\n    </tr>\n    <tr>\n      <th>min</th>\n      <td>NaN</td>\n      <td>0</td>\n    </tr>\n    <tr>\n      <th>25%</th>\n      <td>NaN</td>\n      <td>14.75</td>\n    </tr>\n    <tr>\n      <th>50%</th>\n      <td>NaN</td>\n      <td>29.5</td>\n    </tr>\n    <tr>\n      <th>75%</th>\n      <td>NaN</td>\n      <td>44.25</td>\n    </tr>\n    <tr>\n      <th>max</th>\n      <td>NaN</td>\n      <td>59</td>\n    </tr>\n    <tr>\n      <th>counts</th>\n      <td>60</td>\n      <td>60</td>\n    </tr>\n    <tr>\n      <th>uniques</th>\n      <td>60</td>\n      <td>60</td>\n    </tr>\n    <tr>\n      <th>missing</th>\n      <td>0</td>\n      <td>0</td>\n    </tr>\n    <tr>\n      <th>missing_perc</th>\n      <td>0%</td>\n      <td>0%</td>\n    </tr>\n    <tr>\n      <th>types</th>\n      <td>unique</td>\n      <td>numeric</td>\n    </tr>\n  </tbody>\n</table>\n</div>"
      ],
      "text/plain": [
       "             shop_name  shop_id\ncount              NaN       60\nmean               NaN     29.5\nstd                NaN  17.4642\nmin                NaN        0\n25%                NaN    14.75\n50%                NaN     29.5\n75%                NaN    44.25\nmax                NaN       59\ncounts              60       60\nuniques             60       60\nmissing              0        0\nmissing_perc        0%       0%\ntypes           unique  numeric"
      ]
     },
     "metadata": {},
     "output_type": "display_data"
    },
    {
     "data": {
      "text/html": [
       "<div>\n<style scoped>\n    .dataframe tbody tr th:only-of-type {\n        vertical-align: middle;\n    }\n\n    .dataframe tbody tr th {\n        vertical-align: top;\n    }\n\n    .dataframe thead th {\n        text-align: right;\n    }\n</style>\n<table border=\"1\" class=\"dataframe\">\n  <thead>\n    <tr style=\"text-align: right;\">\n      <th></th>\n      <th>date</th>\n      <th>date_block_num</th>\n      <th>shop_id</th>\n      <th>item_id</th>\n      <th>item_price</th>\n      <th>item_cnt_day</th>\n    </tr>\n  </thead>\n  <tbody>\n    <tr>\n      <th>count</th>\n      <td>NaN</td>\n      <td>2.93585e+06</td>\n      <td>2.93585e+06</td>\n      <td>2.93585e+06</td>\n      <td>2.93585e+06</td>\n      <td>2.93585e+06</td>\n    </tr>\n    <tr>\n      <th>mean</th>\n      <td>NaN</td>\n      <td>14.5699</td>\n      <td>33.0017</td>\n      <td>10197.2</td>\n      <td>890.853</td>\n      <td>1.24264</td>\n    </tr>\n    <tr>\n      <th>std</th>\n      <td>NaN</td>\n      <td>9.42299</td>\n      <td>16.227</td>\n      <td>6324.3</td>\n      <td>1729.8</td>\n      <td>2.61883</td>\n    </tr>\n    <tr>\n      <th>min</th>\n      <td>NaN</td>\n      <td>0</td>\n      <td>0</td>\n      <td>0</td>\n      <td>-1</td>\n      <td>-22</td>\n    </tr>\n    <tr>\n      <th>25%</th>\n      <td>NaN</td>\n      <td>7</td>\n      <td>22</td>\n      <td>4476</td>\n      <td>249</td>\n      <td>1</td>\n    </tr>\n    <tr>\n      <th>50%</th>\n      <td>NaN</td>\n      <td>14</td>\n      <td>31</td>\n      <td>9343</td>\n      <td>399</td>\n      <td>1</td>\n    </tr>\n    <tr>\n      <th>75%</th>\n      <td>NaN</td>\n      <td>23</td>\n      <td>47</td>\n      <td>15684</td>\n      <td>999</td>\n      <td>1</td>\n    </tr>\n    <tr>\n      <th>max</th>\n      <td>NaN</td>\n      <td>33</td>\n      <td>59</td>\n      <td>22169</td>\n      <td>307980</td>\n      <td>2169</td>\n    </tr>\n    <tr>\n      <th>counts</th>\n      <td>2935849</td>\n      <td>2935849</td>\n      <td>2935849</td>\n      <td>2935849</td>\n      <td>2935849</td>\n      <td>2935849</td>\n    </tr>\n    <tr>\n      <th>uniques</th>\n      <td>1034</td>\n      <td>34</td>\n      <td>60</td>\n      <td>21807</td>\n      <td>19993</td>\n      <td>198</td>\n    </tr>\n    <tr>\n      <th>missing</th>\n      <td>0</td>\n      <td>0</td>\n      <td>0</td>\n      <td>0</td>\n      <td>0</td>\n      <td>0</td>\n    </tr>\n    <tr>\n      <th>missing_perc</th>\n      <td>0%</td>\n      <td>0%</td>\n      <td>0%</td>\n      <td>0%</td>\n      <td>0%</td>\n      <td>0%</td>\n    </tr>\n    <tr>\n      <th>types</th>\n      <td>categorical</td>\n      <td>numeric</td>\n      <td>numeric</td>\n      <td>numeric</td>\n      <td>numeric</td>\n      <td>numeric</td>\n    </tr>\n  </tbody>\n</table>\n</div>"
      ],
      "text/plain": [
       "                     date date_block_num      shop_id      item_id  \\\ncount                 NaN    2.93585e+06  2.93585e+06  2.93585e+06   \nmean                  NaN        14.5699      33.0017      10197.2   \nstd                   NaN        9.42299       16.227       6324.3   \nmin                   NaN              0            0            0   \n25%                   NaN              7           22         4476   \n50%                   NaN             14           31         9343   \n75%                   NaN             23           47        15684   \nmax                   NaN             33           59        22169   \ncounts            2935849        2935849      2935849      2935849   \nuniques              1034             34           60        21807   \nmissing                 0              0            0            0   \nmissing_perc           0%             0%           0%           0%   \ntypes         categorical        numeric      numeric      numeric   \n\n               item_price item_cnt_day  \ncount         2.93585e+06  2.93585e+06  \nmean              890.853      1.24264  \nstd                1729.8      2.61883  \nmin                    -1          -22  \n25%                   249            1  \n50%                   399            1  \n75%                   999            1  \nmax                307980         2169  \ncounts            2935849      2935849  \nuniques             19993          198  \nmissing                 0            0  \nmissing_perc           0%           0%  \ntypes             numeric      numeric  "
      ]
     },
     "metadata": {},
     "output_type": "display_data"
    },
    {
     "data": {
      "text/html": [
       "<div>\n<style scoped>\n    .dataframe tbody tr th:only-of-type {\n        vertical-align: middle;\n    }\n\n    .dataframe tbody tr th {\n        vertical-align: top;\n    }\n\n    .dataframe thead th {\n        text-align: right;\n    }\n</style>\n<table border=\"1\" class=\"dataframe\">\n  <thead>\n    <tr style=\"text-align: right;\">\n      <th></th>\n      <th>ID</th>\n      <th>shop_id</th>\n      <th>item_id</th>\n    </tr>\n  </thead>\n  <tbody>\n    <tr>\n      <th>count</th>\n      <td>214200</td>\n      <td>214200</td>\n      <td>214200</td>\n    </tr>\n    <tr>\n      <th>mean</th>\n      <td>107100</td>\n      <td>31.6429</td>\n      <td>11019.4</td>\n    </tr>\n    <tr>\n      <th>std</th>\n      <td>61834.4</td>\n      <td>17.5619</td>\n      <td>6252.64</td>\n    </tr>\n    <tr>\n      <th>min</th>\n      <td>0</td>\n      <td>2</td>\n      <td>30</td>\n    </tr>\n    <tr>\n      <th>25%</th>\n      <td>53549.8</td>\n      <td>16</td>\n      <td>5381.5</td>\n    </tr>\n    <tr>\n      <th>50%</th>\n      <td>107100</td>\n      <td>34.5</td>\n      <td>11203</td>\n    </tr>\n    <tr>\n      <th>75%</th>\n      <td>160649</td>\n      <td>47</td>\n      <td>16071.5</td>\n    </tr>\n    <tr>\n      <th>max</th>\n      <td>214199</td>\n      <td>59</td>\n      <td>22167</td>\n    </tr>\n    <tr>\n      <th>counts</th>\n      <td>214200</td>\n      <td>214200</td>\n      <td>214200</td>\n    </tr>\n    <tr>\n      <th>uniques</th>\n      <td>214200</td>\n      <td>42</td>\n      <td>5100</td>\n    </tr>\n    <tr>\n      <th>missing</th>\n      <td>0</td>\n      <td>0</td>\n      <td>0</td>\n    </tr>\n    <tr>\n      <th>missing_perc</th>\n      <td>0%</td>\n      <td>0%</td>\n      <td>0%</td>\n    </tr>\n    <tr>\n      <th>types</th>\n      <td>numeric</td>\n      <td>numeric</td>\n      <td>numeric</td>\n    </tr>\n  </tbody>\n</table>\n</div>"
      ],
      "text/plain": [
       "                   ID  shop_id  item_id\ncount          214200   214200   214200\nmean           107100  31.6429  11019.4\nstd           61834.4  17.5619  6252.64\nmin                 0        2       30\n25%           53549.8       16   5381.5\n50%            107100     34.5    11203\n75%            160649       47  16071.5\nmax            214199       59    22167\ncounts         214200   214200   214200\nuniques        214200       42     5100\nmissing             0        0        0\nmissing_perc       0%       0%       0%\ntypes         numeric  numeric  numeric"
      ]
     },
     "metadata": {},
     "output_type": "display_data"
    }
   ],
   "source": [
    "for t in tables:\n",
    "    display(DataFrameSummary(t).summary())"
   ]
  },
  {
   "cell_type": "code",
   "execution_count": 6,
   "metadata": {
    "autoscroll": false,
    "collapsed": false,
    "ein.hycell": false,
    "ein.tags": "worksheet-0",
    "slideshow": {
     "slide_type": "-"
    }
   },
   "outputs": [
    {
     "data": {
      "text/plain": [
       "(Index             6245552\n date              6245552\n date_block_num    6245552\n shop_id           6245552\n item_id           6245552\n item_price        6245552\n item_cnt_day      6245552\n dtype: int64, (780694, 6), 8607060)"
      ]
     },
     "execution_count": 6,
     "metadata": {},
     "output_type": "execute_result"
    }
   ],
   "source": [
    "item_categories, items_full, shops_full, sales_train_full, test = tables\n",
    "# !!!!! REDUCE DATA SIZE TO SPEED UP EXPLORATORY PHASE !!!!!\n",
    "item_thrsh = items_full['item_id'].median()\n",
    "shop_thrsh = shops_full['shop_id'].median()\n",
    "items = items_full.drop(items_full.query(f'item_id > {item_thrsh}').index)\n",
    "shops = shops_full.drop(shops_full.query(f'shop_id > {shop_thrsh}').index)\n",
    "# drop all data from sales_train_full for which we've just dropped the item/shop info:\n",
    "sales_train = pd.merge(\n",
    "    pd.merge(\n",
    "        sales_train_full, pd.DataFrame({'item_id': items['item_id']}), how='inner', on='item_id'),\n",
    "    pd.DataFrame({'shop_id': shops['shop_id']}),\n",
    "    how='inner',\n",
    "    on='shop_id')\n",
    "# ^^^^^ REDUCE DATA SIZE TO SPEED UP EXPLORATORY PHASE ^^^^^\n",
    "sales_train.memory_usage(), sales_train.shape, len(pd.unique(sales_train['item_id'])) * len(pd.unique(sales_train['shop_id'])) * sales_train['date_block_num'].max()"
   ]
  },
  {
   "cell_type": "markdown",
   "metadata": {
    "ein.tags": "worksheet-0",
    "slideshow": {
     "slide_type": "-"
    }
   },
   "source": [
    " The mission is to predict next month's sales data, hence add a `date_block_num` column to the test data representing the month following the last month for which data is available (ideally the formula for `test['date_block_num']` would parse from `sales_train` what `date_block_num==0` means, but I kept it simple):"
   ]
  },
  {
   "cell_type": "code",
   "execution_count": 7,
   "metadata": {
    "autoscroll": false,
    "collapsed": false,
    "ein.hycell": false,
    "ein.tags": "worksheet-0",
    "slideshow": {
     "slide_type": "-"
    }
   },
   "outputs": [],
   "source": [
    "next_month = 1 + sales_train['date_block_num'].max()\n",
    "test['date_block_num'] = next_month"
   ]
  },
  {
   "cell_type": "markdown",
   "metadata": {
    "ein.tags": "worksheet-0",
    "slideshow": {
     "slide_type": "-"
    }
   },
   "source": [
    "Since we're interested in the prediction of a month's sales, remove all time information that is finer grained than a month (aggregate and drop some data).  The transformation from `date_block_num` to the `Year` & `Month` columns comes from examining the data during previous investigations."
   ]
  },
  {
   "cell_type": "code",
   "execution_count": 8,
   "metadata": {
    "autoscroll": false,
    "collapsed": false,
    "ein.hycell": false,
    "ein.tags": "worksheet-0",
    "slideshow": {
     "slide_type": "-"
    }
   },
   "outputs": [
    {
     "data": {
      "text/plain": [
       "   date_block_num  shop_id  item_id  item_cnt_day  item_price_min  \\\n0               0        0       32           6.0           221.0   \n1               0        0       33           3.0           347.0   \n\n   item_price_max  \n0           221.0  \n1           347.0  "
      ]
     },
     "execution_count": 8,
     "metadata": {},
     "output_type": "execute_result"
    }
   ],
   "source": [
    "def add_Year_Month_cols(df):\n",
    "    df['Year'] = 2013 + df['date_block_num'] // 12\n",
    "    df['Month'] = 1 + df['date_block_num'] % 12\n",
    "    return df\n",
    "\n",
    "data_monthly_sum = sales_train.groupby(['date_block_num', 'shop_id', 'item_id'], as_index=False).agg({\n",
    "    'item_cnt_day': 'sum',\n",
    "    'item_price': ['min', 'max']})\n",
    "# Reduce multi-level column indices to one level:\n",
    "data_monthly_sum.columns = ['_'.join(x for x in col if x != 'sum').rstrip('_')\n",
    "                            for col in data_monthly_sum.columns.values]\n",
    "data_monthly_sum.head(2)"
   ]
  },
  {
   "cell_type": "markdown",
   "metadata": {
    "ein.tags": "worksheet-0",
    "slideshow": {
     "slide_type": "-"
    }
   },
   "source": [
    "Make sure data is complete even for products introduced after data collection started or discontinued in the middle of the data set by adding 1 row with 0 sales for each `(shop_id, item_id)` combination on the 1st of the month.  Then, when aggregating by month, there will always be at least one row."
   ]
  },
  {
   "cell_type": "code",
   "execution_count": 9,
   "metadata": {
    "autoscroll": false,
    "collapsed": false,
    "ein.hycell": false,
    "ein.tags": "worksheet-0",
    "slideshow": {
     "slide_type": "-"
    }
   },
   "outputs": [
    {
     "data": {
      "text/html": [
       "<div>\n<style scoped>\n    .dataframe tbody tr th:only-of-type {\n        vertical-align: middle;\n    }\n\n    .dataframe tbody tr th {\n        vertical-align: top;\n    }\n\n    .dataframe thead th {\n        text-align: right;\n    }\n</style>\n<table border=\"1\" class=\"dataframe\">\n  <thead>\n    <tr style=\"text-align: right;\">\n      <th></th>\n      <th>item_id</th>\n      <th>shop_id</th>\n      <th>date_block_num</th>\n      <th>item_price_min</th>\n      <th>item_price_max</th>\n      <th>item_cnt_day</th>\n      <th>Year</th>\n      <th>Month</th>\n    </tr>\n  </thead>\n  <tbody>\n    <tr>\n      <th>0</th>\n      <td>0</td>\n      <td>0</td>\n      <td>0</td>\n      <td>NaN</td>\n      <td>NaN</td>\n      <td>0.0</td>\n      <td>2013</td>\n      <td>1</td>\n    </tr>\n    <tr>\n      <th>1</th>\n      <td>0</td>\n      <td>0</td>\n      <td>1</td>\n      <td>NaN</td>\n      <td>NaN</td>\n      <td>0.0</td>\n      <td>2013</td>\n      <td>2</td>\n    </tr>\n  </tbody>\n</table>\n</div>"
      ],
      "text/plain": [
       "   item_id  shop_id  date_block_num  item_price_min  item_price_max  \\\n0        0        0               0             NaN             NaN   \n1        0        0               1             NaN             NaN   \n\n   item_cnt_day  Year  Month  \n0           0.0  2013      1  \n1           0.0  2013      2  "
      ]
     },
     "metadata": {},
     "output_type": "display_data"
    }
   ],
   "source": [
    "NaN = float(\"nan\")\n",
    "def df_crossjoin(df1, df2, **kwargs):\n",
    "    # Adapted from\n",
    "    # https://mkonrad.net/2016/04/16/cross-join--cartesian-product-between-pandas-dataframes.html\n",
    "    # See documentation of Pandas `merge': when several rows contain\n",
    "    # the same value in the column used for the join, the cartesian\n",
    "    # product is made.  Add a temporary column with a common value.\n",
    "    df1['_tmpkey'] = 1\n",
    "    df2['_tmpkey'] = 1\n",
    "    res = pd.merge(df1, df2, on='_tmpkey', **kwargs)\n",
    "    res.drop('_tmpkey', axis=1, inplace=True)\n",
    "    df1.drop('_tmpkey', axis=1, inplace=True)\n",
    "    df2.drop('_tmpkey', axis=1, inplace=True)\n",
    "    return res\n",
    "_its = pd.DataFrame({'item_id': items['item_id']})\n",
    "_shs = pd.DataFrame({'shop_id': shops['shop_id']})\n",
    "_dbs = pd.DataFrame({'date_block_num': range(sales_train['date_block_num'].min(), next_month)})\n",
    "its_shs_dbs = df_crossjoin(_its, df_crossjoin(_shs, _dbs))\n",
    "its_shs_dbs['item_price_min'] = NaN\n",
    "its_shs_dbs['item_price_max'] = NaN\n",
    "its_shs_dbs['item_cnt_day'] = 0\n",
    "its_shs_dbs = add_Year_Month_cols(its_shs_dbs)\n",
    "data_monthly_sum.set_index(['item_id', 'shop_id', 'date_block_num'], inplace=True)\n",
    "its_shs_dbs.set_index(['item_id', 'shop_id', 'date_block_num'], inplace=True)\n",
    "its_shs_dbs.update(data_monthly_sum)\n",
    "# Restore item_id, shop_id, date_block_num as columns instead of indices\n",
    "its_shs_dbs.reset_index(level=['item_id', 'shop_id', 'date_block_num'], inplace=True)\n",
    "display(its_shs_dbs.head(2))"
   ]
  },
  {
   "cell_type": "code",
   "execution_count": 10,
   "metadata": {
    "autoscroll": false,
    "collapsed": false,
    "ein.hycell": false,
    "ein.tags": "worksheet-0",
    "slideshow": {
     "slide_type": "-"
    }
   },
   "outputs": [
    {
     "data": {
      "text/plain": [
       "item_id           11306700\nshop_id           11306700\ndate_block_num    11306700\nitem_price_min      400201\nitem_price_max      400201\nitem_cnt_day      11306700\nYear              11306700\nMonth             11306700\ndtype: int64"
      ]
     },
     "execution_count": 10,
     "metadata": {},
     "output_type": "execute_result"
    }
   ],
   "source": [
    "its_shs_dbs.count()"
   ]
  },
  {
   "cell_type": "markdown",
   "metadata": {
    "ein.tags": "worksheet-0",
    "slideshow": {
     "slide_type": "-"
    }
   },
   "source": [
    "Copied from lesson3-rossmann:\n",
    "\n",
    "`join_df` is a function for joining tables on specific fields. By default, we'll be doing a left outer join (i.e. inner join + keep rows of left table that don't match anything in the right table) of right on the left argument using the given fields for each table.\n",
    "\n",
    "Pandas does joins using the merge method. The suffixes argument describes the naming convention for duplicate fields. We've elected to leave the duplicate field names on the left untouched, and append a `\"_y\"` to those on the right.\n"
   ]
  },
  {
   "cell_type": "code",
   "execution_count": 11,
   "metadata": {
    "autoscroll": false,
    "collapsed": false,
    "ein.hycell": false,
    "ein.tags": "worksheet-0",
    "slideshow": {
     "slide_type": "-"
    }
   },
   "outputs": [],
   "source": [
    "def join_df(left, right, left_on, right_on=None, suffix='_y'):\n",
    "    \"\"\"@param left: Dataframe\n",
    "    @param right: Dataframe\n",
    "    @param left_on: column name in left table\n",
    "    @param right_on: (default: left_on) column name in right table\n",
    "    @param suffix: (default: \"_y\") appended to duplicate column names from the right table\"\"\"\n",
    "    if right_on is None: right_on = left_on\n",
    "    return left.merge(right, how='left', left_on=left_on, right_on=right_on, \n",
    "                      suffixes=(\"\", suffix))\n",
    "\n",
    "def denormalize(t):\n",
    "    \"\"\"Denormalize table by adding shop names, item names & item categories\n",
    "    \n",
    "    This function is specific to the data model of this Kaggle competition.\"\"\"\n",
    "    t = join_df(t, shops, 'shop_id')\n",
    "    t = join_df(t, items, 'item_id')\n",
    "    t = join_df(t, item_categories, 'item_category_id')\n",
    "    return t"
   ]
  },
  {
   "cell_type": "markdown",
   "metadata": {
    "ein.tags": "worksheet-0",
    "slideshow": {
     "slide_type": "-"
    }
   },
   "source": [
    "### Aggregate training data"
   ]
  },
  {
   "cell_type": "markdown",
   "metadata": {
    "ein.tags": "worksheet-0",
    "slideshow": {
     "slide_type": "-"
    }
   },
   "source": [
    "First, enrich the sales data with all other tables we have, so that we can e.g. group by categories instead of items later."
   ]
  },
  {
   "cell_type": "code",
   "execution_count": 12,
   "metadata": {
    "autoscroll": false,
    "collapsed": false,
    "ein.hycell": false,
    "ein.tags": "worksheet-0",
    "slideshow": {
     "slide_type": "-"
    }
   },
   "outputs": [
    {
     "data": {
      "text/plain": [
       "   item_id  shop_id  date_block_num  item_price_min  item_price_max  \\\n0        0        0               0             NaN             NaN   \n1        0        0               1             NaN             NaN   \n2        0        0               2             NaN             NaN   \n\n   item_cnt_day  Year  Month                      shop_name  \\\n0           0.0  2013      1  !Якутск Орджоникидзе, 56 фран   \n1           0.0  2013      2  !Якутск Орджоникидзе, 56 фран   \n2           0.0  2013      3  !Якутск Орджоникидзе, 56 фран   \n\n                                   item_name  item_category_id  \\\n0  ! ВО ВЛАСТИ НАВАЖДЕНИЯ (ПЛАСТ.)         D                40   \n1  ! ВО ВЛАСТИ НАВАЖДЕНИЯ (ПЛАСТ.)         D                40   \n2  ! ВО ВЛАСТИ НАВАЖДЕНИЯ (ПЛАСТ.)         D                40   \n\n  item_category_name  \n0         Кино - DVD  \n1         Кино - DVD  \n2         Кино - DVD  "
      ]
     },
     "execution_count": 12,
     "metadata": {},
     "output_type": "execute_result"
    }
   ],
   "source": [
    "sales_train = denormalize(its_shs_dbs)\n",
    "test = denormalize(test)\n",
    "sales_train.head(3)"
   ]
  },
  {
   "cell_type": "markdown",
   "metadata": {
    "ein.tags": "worksheet-0",
    "slideshow": {
     "slide_type": "-"
    }
   },
   "source": [
    "Introduce a new column representing the revenue brought by a product: `gross = item_cnt_day * item_price`:"
   ]
  },
  {
   "cell_type": "code",
   "execution_count": 13,
   "metadata": {
    "autoscroll": false,
    "collapsed": false,
    "ein.hycell": false,
    "ein.tags": "worksheet-0",
    "slideshow": {
     "slide_type": "-"
    }
   },
   "outputs": [],
   "source": [
    "sales_train['gross_min'] = sales_train['item_price_min'].fillna(0) * sales_train['item_cnt_day']\n",
    "sales_train['gross_max'] = sales_train['item_price_max'].fillna(0) * sales_train['item_cnt_day']"
   ]
  },
  {
   "cell_type": "markdown",
   "metadata": {
    "ein.tags": "worksheet-0",
    "slideshow": {
     "slide_type": "-"
    }
   },
   "source": [
    "Looking at the data, it seemed like at least one shop was open every day, but there are shops that were not open every day.  Record per shop how many items (all lumped together) they sold and what revenue they generated."
   ]
  },
  {
   "cell_type": "code",
   "execution_count": 14,
   "metadata": {
    "autoscroll": false,
    "collapsed": false,
    "ein.hycell": false,
    "ein.tags": "worksheet-0",
    "slideshow": {
     "slide_type": "-"
    }
   },
   "outputs": [
    {
     "data": {
      "text/plain": [
       "   date_block_num  shop_id  all_shop_items_sold  all_shop_gross_min  \\\n0               0        0               2866.0        1.925282e+06   \n1               0        1               1543.0        1.024454e+06   \n2               0        2                690.0        7.183558e+05   \n3               0        3                477.0        4.102358e+05   \n4               0        4               1285.0        9.710970e+05   \n\n   all_shop_gross_max  \n0          1957675.00  \n1          1040763.00  \n2           739713.92  \n3           411439.30  \n4          1012548.74  "
      ]
     },
     "execution_count": 14,
     "metadata": {},
     "output_type": "execute_result"
    }
   ],
   "source": [
    "sales_and_monthly_revenue = sales_train.groupby(['date_block_num', 'shop_id'], as_index=False).agg({\n",
    "    x: 'sum' for x in ('item_cnt_day', 'gross_min', 'gross_max')})\n",
    "sales_and_monthly_revenue.rename(inplace=True, columns={\n",
    "    'item_cnt_day': 'all_shop_items_sold',\n",
    "    'gross_min': 'all_shop_gross_min',\n",
    "    'gross_max': 'all_shop_gross_max'\n",
    "});\n",
    "sales_and_monthly_revenue.head(5)"
   ]
  },
  {
   "cell_type": "markdown",
   "metadata": {
    "ein.tags": "worksheet-0",
    "slideshow": {
     "slide_type": "-"
    }
   },
   "source": [
    "How many items of each sort were sold in all stores for each time period and what revenue did each item generate?"
   ]
  },
  {
   "cell_type": "code",
   "execution_count": 15,
   "metadata": {
    "autoscroll": false,
    "collapsed": false,
    "ein.hycell": false,
    "ein.tags": "worksheet-0",
    "scrolled": true,
    "slideshow": {
     "slide_type": "-"
    }
   },
   "outputs": [
    {
     "data": {
      "text/plain": [
       "   date_block_num  item_id  global_sold  global_gross_min  global_gross_max\n0               0        0          0.0               0.0               0.0\n1               0        1          0.0               0.0               0.0\n2               0        2          0.0               0.0               0.0\n3               0        3          0.0               0.0               0.0\n4               0        4          0.0               0.0               0.0"
      ]
     },
     "execution_count": 15,
     "metadata": {},
     "output_type": "execute_result"
    }
   ],
   "source": [
    "items_globally = sales_train.groupby(['date_block_num', 'item_id'], as_index=False).agg({\n",
    "    x: 'sum' for x in ('item_cnt_day', 'gross_min', 'gross_max')})\n",
    "items_globally.rename(inplace=True, columns={\n",
    "    'item_cnt_day': 'global_sold',\n",
    "    'gross_min': 'global_gross_min',\n",
    "    'gross_max': 'global_gross_max'\n",
    "});\n",
    "items_globally.head(5)"
   ]
  },
  {
   "cell_type": "markdown",
   "metadata": {
    "ein.tags": "worksheet-0",
    "slideshow": {
     "slide_type": "-"
    }
   },
   "source": [
    "How much (count and revenue) was sold per category for each time period (globally & per store)?"
   ]
  },
  {
   "cell_type": "code",
   "execution_count": 16,
   "metadata": {
    "autoscroll": false,
    "collapsed": false,
    "ein.hycell": false,
    "ein.tags": "worksheet-0",
    "slideshow": {
     "slide_type": "-"
    }
   },
   "outputs": [
    {
     "data": {
      "text/plain": [
       "   date_block_num  item_category_id  global_cat_sold  global_cat_gross_min  \\\n0               0                 0              0.0                  0.00   \n1               0                 1              0.0                  0.00   \n2               0                 2            693.0            1269502.17   \n3               0                 3              1.0               2490.00   \n4               0                 4             63.0              13921.50   \n\n   global_cat_gross_max  \n0                  0.00  \n1                  0.00  \n2            1303480.02  \n3               2490.00  \n4              13921.50  "
      ]
     },
     "execution_count": 16,
     "metadata": {},
     "output_type": "execute_result"
    }
   ],
   "source": [
    "cats_globally = sales_train.groupby(['date_block_num', 'item_category_id'], as_index=False).agg({\n",
    "    x: 'sum' for x in ('item_cnt_day', 'gross_min', 'gross_max')})\n",
    "cats_globally.rename(inplace=True, columns={\n",
    "    'item_cnt_day': 'global_cat_sold',\n",
    "    'gross_min': 'global_cat_gross_min',\n",
    "    'gross_max': 'global_cat_gross_max'\n",
    "});\n",
    "cats_per_shop = sales_train.groupby(['date_block_num', 'shop_id', 'item_category_id'], as_index=False).agg({\n",
    "    x: 'sum' for x in ('item_cnt_day', 'gross_min', 'gross_max')})\n",
    "cats_per_shop.rename(inplace=True, columns={\n",
    "    'item_cnt_day': 'shop_cat_sold',\n",
    "    'gross_min': 'shop_cat_gross_min',\n",
    "    'gross_max': 'shop_cat_gross_max'\n",
    "});\n",
    "cats_globally.head(5)"
   ]
  },
  {
   "cell_type": "markdown",
   "metadata": {
    "ein.tags": "worksheet-0",
    "slideshow": {
     "slide_type": "-"
    }
   },
   "source": [
    "Paste together all the cumulative data, the goal is a table with unique (date_block_num, shop_id, item_id) rows.  Start from `items_per_shop` then join other cumulative data onto it."
   ]
  },
  {
   "cell_type": "code",
   "execution_count": 17,
   "metadata": {
    "autoscroll": false,
    "collapsed": false,
    "ein.hycell": false,
    "ein.tags": "worksheet-0",
    "slideshow": {
     "slide_type": "-"
    }
   },
   "outputs": [],
   "source": [
    "data = functools.reduce(\n",
    "    lambda src, extra: join_df(src, *extra),\n",
    "    [[sales_and_monthly_revenue, ('date_block_num', 'shop_id')],\n",
    "     [items_globally, ('date_block_num', 'item_id')],\n",
    "     [cats_globally, ('date_block_num', 'item_category_id')],\n",
    "     [cats_per_shop, ('date_block_num', 'shop_id', 'item_category_id')]],\n",
    "    sales_train)"
   ]
  },
  {
   "cell_type": "code",
   "execution_count": 18,
   "metadata": {
    "autoscroll": false,
    "collapsed": false,
    "ein.hycell": false,
    "ein.tags": "worksheet-0",
    "slideshow": {
     "slide_type": "-"
    }
   },
   "outputs": [
    {
     "data": {
      "text/plain": [
       "Index(['item_id', 'shop_id', 'date_block_num', 'item_price_min',\n       'item_price_max', 'item_cnt_day', 'Year', 'Month', 'shop_name',\n       'item_name', 'item_category_id', 'item_category_name', 'gross_min',\n       'gross_max', 'all_shop_items_sold', 'all_shop_gross_min',\n       'all_shop_gross_max', 'global_sold', 'global_gross_min',\n       'global_gross_max', 'global_cat_sold', 'global_cat_gross_min',\n       'global_cat_gross_max', 'shop_cat_sold', 'shop_cat_gross_min',\n       'shop_cat_gross_max'],\n      dtype='object')"
      ]
     },
     "execution_count": 18,
     "metadata": {},
     "output_type": "execute_result"
    }
   ],
   "source": [
    "data.columns"
   ]
  },
  {
   "cell_type": "markdown",
   "metadata": {
    "ein.tags": "worksheet-0",
    "slideshow": {
     "slide_type": "-"
    }
   },
   "source": [
    "Now, this data is a very denormalized representation of the training data (because it was enriched with e.g. the aggregate sales data of items in the same category globally or in the same shop *in the same month*).  Unfortunately, for our prediction purposes, this equivalent data is not available (it would need to be predicted as well, then aggregated; this is too complex at this stage)... so we will time-shift the data and join it onto the training (and test data), so that the prediction problem gets information about the past (moving average style).  There are some arbitrary decisions about what features we want to add: let's use `past_months` data (not too many to avoid losing too many rows, i.e. those for which no past data is known) and the sum of the same month over the whole data range (this expresses the assumption that there's a yearly pattern)."
   ]
  },
  {
   "cell_type": "code",
   "execution_count": 19,
   "metadata": {
    "autoscroll": false,
    "collapsed": false,
    "ein.hycell": false,
    "ein.tags": "worksheet-0",
    "slideshow": {
     "slide_type": "-"
    }
   },
   "outputs": [],
   "source": [
    "index_cols = ['item_id', 'shop_id', 'date_block_num']\n",
    "aggregation_cols = [\n",
    "    'item_cnt_day', 'gross_min', 'gross_max', 'all_shop_items_sold',\n",
    "    'all_shop_gross_min', 'all_shop_gross_max', 'global_sold', 'global_gross_min', 'global_gross_max',\n",
    "    'global_cat_sold', 'global_cat_gross_min', 'global_cat_gross_max',\n",
    "    'shop_cat_sold', 'shop_cat_gross_min', 'shop_cat_gross_max']\n",
    "dependent_cols = ['item_cnt_day']\n",
    "# Incorporate yearly pattern (median & mean):\n",
    "data_monthly_median = data.groupby(['Month', 'shop_id', 'item_id'], as_index=False).agg({\n",
    "    k: 'median' for k in aggregation_cols})\n",
    "data_monthly_median.rename(inplace=True, columns={k: \"{}_median\".format(k) for k in aggregation_cols});\n",
    "data_monthly_mean = data.groupby(['Month', 'shop_id', 'item_id'], as_index=False).agg({\n",
    "    k: 'mean' for k in aggregation_cols})\n",
    "data_monthly_mean.rename(inplace=True, columns={k: \"{}_mean\".format(k) for k in aggregation_cols});"
   ]
  },
  {
   "cell_type": "markdown",
   "metadata": {
    "ein.tags": "worksheet-0",
    "slideshow": {
     "slide_type": "-"
    }
   },
   "source": [
    "Continue aggregating started above:\n",
    "\n",
    "1. All data except `index_cols` & `item_cnt_day` (the dependent variable) in `with_ma_data` should come from the past\n",
    "2. Rows for which there is no past data should be dropped (e.g. we can't use the 3rd month's sales data as dependent variable if we want to use 3 months or more historical data to predict it)\n",
    "3. Join data (shifted in time) from `agg_data` to `with_ma_data`, renaming columns to indicate time shift.  This needs to be a function so it can be applied to the test set."
   ]
  },
  {
   "cell_type": "code",
   "execution_count": null,
   "metadata": {
    "autoscroll": false,
    "collapsed": false,
    "ein.hycell": false,
    "ein.tags": "worksheet-0",
    "slideshow": {
     "slide_type": "-"
    }
   },
   "outputs": [],
   "source": []
  },
  {
   "cell_type": "code",
   "execution_count": null,
   "metadata": {
    "autoscroll": false,
    "collapsed": false,
    "ein.hycell": false,
    "ein.tags": "worksheet-0",
    "slideshow": {
     "slide_type": "-"
    }
   },
   "outputs": [],
   "source": [
    "def augment_with_past_data(all_data, past_months=4):\n",
    "    global aggregation_cols, index_cols, dependent_cols\n",
    "    # Start with only the data that is available in the test set as well (i.e. doesn't need time shifting)\n",
    "    with_ma_data = all_data[index_cols + dependent_cols].copy()\n",
    "    # Drop rows for which no historical data would be available to predict the dependent variable\n",
    "    with_ma_data = with_ma_data.loc[with_ma_data['date_block_num'] >= past_months]\n",
    "    # agg_data will be shifted into the past 1 month at a time & joined onto with_ma_data\n",
    "    agg_data = all_data.drop(columns=[col for col in all_data.columns if not (\n",
    "        col in index_cols or\n",
    "        col in aggregation_cols)],\n",
    "                         inplace=False)\n",
    "    # IPython.core.debugger.set_trace()\n",
    "    for m in range(past_months):\n",
    "        # Shift agg_data one month into future to line up the past data with the present:\n",
    "        # ... drop data that isn't going to be used\n",
    "        agg_data.drop(agg_data[agg_data['date_block_num'] >= next_month - 1].index,\n",
    "                      inplace=True)\n",
    "        # ... update 'date_block_num' column to make it line up with the rows in with_ma_data we want to join with\n",
    "        agg_data['date_block_num'] += 1\n",
    "        with_ma_data = with_ma_data.merge(\n",
    "            agg_data,\n",
    "            how='inner',\n",
    "            left_on=index_cols, right_on=index_cols,\n",
    "            suffixes=(\"\", \"_{}\".format(m + 1)))\n",
    "    IPython.core.debugger.set_trace()\n",
    "    # the first merge operation (when m==0) had no column name clashes except\n",
    "    # for the dependent variable, hence the suffix '_1' is missing on some\n",
    "    # columns, add it:\n",
    "    with_ma_data.rename(inplace=True, columns={\n",
    "        k: \"{}_1\".format(k) for k in aggregation_cols if k not in dependent_cols})\n",
    "    return with_ma_data"
   ]
  },
  {
   "cell_type": "code",
   "execution_count": null,
   "metadata": {
    "autoscroll": false,
    "collapsed": false,
    "ein.hycell": false,
    "ein.tags": "worksheet-0",
    "slideshow": {
     "slide_type": "-"
    }
   },
   "outputs": [],
   "source": []
  },
  {
   "cell_type": "code",
   "execution_count": 15,
   "metadata": {
    "autoscroll": false,
    "collapsed": false,
    "ein.hycell": false,
    "ein.tags": "worksheet-0",
    "slideshow": {
     "slide_type": "-"
    }
   },
   "outputs": [],
   "source": [
    "cat_vars = ['shop_id', 'item_id', 'item_name', 'item_category_id', 'item_category_name', 'shop_name', 'Year', 'Month']\n",
    "cont_vars = ['item_price',\n",
    "       'gross', 'open_days', 'all_shop_items_sold', 'all_shop_gross',\n",
    "       'global_sold', 'global_gross', 'global_cat_sold', 'global_cat_gross',\n",
    "       'cat_shop_sold', 'cat_shop_gross']"
   ]
  },
  {
   "cell_type": "code",
   "execution_count": 16,
   "metadata": {
    "autoscroll": false,
    "collapsed": false,
    "ein.hycell": false,
    "ein.tags": "worksheet-0",
    "slideshow": {
     "slide_type": "-"
    }
   },
   "outputs": [
    {
     "data": {
      "text/plain": [
       "0"
      ]
     },
     "execution_count": 16,
     "metadata": {},
     "output_type": "execute_result"
    }
   ],
   "source": [
    "len(data.columns) - len(cat_vars) - len(cont_vars) - 2 # 2: dependent variable & time"
   ]
  },
  {
   "cell_type": "markdown",
   "metadata": {
    "ein.tags": "worksheet-0",
    "slideshow": {
     "slide_type": "-"
    }
   },
   "source": [
    "Reorder data & cast to types expected by PyTorch (float32 for continuous variables, explicitly label categorical variables as such) (copied from lesson3-rossmann)."
   ]
  },
  {
   "cell_type": "code",
   "execution_count": 25,
   "metadata": {
    "autoscroll": false,
    "collapsed": false,
    "ein.hycell": false,
    "ein.tags": "worksheet-0",
    "slideshow": {
     "slide_type": "-"
    }
   },
   "outputs": [],
   "source": [
    "dep = dependent_cols[0]\n",
    "\n",
    "for v in cat_vars: \n",
    "    data[v] = data[v].astype('category').cat.as_ordered()\n",
    "\n",
    "for v in cont_vars:\n",
    "    data[v] = data[v].astype('float32')\n",
    "\n",
    "data = data[cat_vars+cont_vars+[dep, 'date_block_num']].copy()"
   ]
  },
  {
   "cell_type": "markdown",
   "metadata": {
    "ein.tags": "worksheet-0",
    "slideshow": {
     "slide_type": "-"
    }
   },
   "source": [
    "Todo:\n",
    "\n",
    "  1. Embedding for item name & item category name\n",
    "  2. Skip shop name?\n",
    "  3. Drop 'gross' column: it is too correlated with 'item_cnt_day' and I don't have it in the test set\n",
    "  4. Need to apply same enrichment to test data (i.e. add item categories)\n",
    "  5. time series yet only data from the same month is used?  I don't even have it for the test data!  Incorporate results of previous months\n",
    "  6. Define fitness function, clip output to [0, 20]\n",
    "\n",
    "Select subset of data to speed up exploration"
   ]
  },
  {
   "cell_type": "code",
   "execution_count": 27,
   "metadata": {
    "autoscroll": false,
    "collapsed": false,
    "ein.hycell": false,
    "ein.tags": "worksheet-0",
    "slideshow": {
     "slide_type": "-"
    }
   },
   "outputs": [],
   "source": [
    "n = data.shape[0]"
   ]
  },
  {
   "cell_type": "code",
   "execution_count": 29,
   "metadata": {
    "autoscroll": false,
    "collapsed": false,
    "ein.hycell": false,
    "ein.tags": "worksheet-0",
    "slideshow": {
     "slide_type": "-"
    }
   },
   "outputs": [
    {
     "data": {
      "text/plain": [
       "150000"
      ]
     },
     "execution_count": 29,
     "metadata": {},
     "output_type": "execute_result"
    }
   ],
   "source": [
    "idxs = get_cv_idxs(n, val_pct=150000/n) \n",
    "joined_samp = data.iloc[idxs].set_index(\"date_block_num\") \n",
    "samp_size = len(joined_samp); samp_size"
   ]
  },
  {
   "cell_type": "code",
   "execution_count": 31,
   "metadata": {
    "autoscroll": false,
    "collapsed": false,
    "ein.hycell": false,
    "ein.tags": "worksheet-0",
    "slideshow": {
     "slide_type": "-"
    }
   },
   "outputs": [
    {
     "data": {
      "text/html": [
       "<div>\n",
       "<style scoped>\n",
       "    .dataframe tbody tr th:only-of-type {\n",
       "        vertical-align: middle;\n",
       "    }\n",
       "\n",
       "    .dataframe tbody tr th {\n",
       "        vertical-align: top;\n",
       "    }\n",
       "\n",
       "    .dataframe thead th {\n",
       "        text-align: right;\n",
       "    }\n",
       "</style>\n",
       "<table border=\"1\" class=\"dataframe\">\n",
       "  <thead>\n",
       "    <tr style=\"text-align: right;\">\n",
       "      <th></th>\n",
       "      <th>shop_id</th>\n",
       "      <th>item_id</th>\n",
       "      <th>item_name</th>\n",
       "      <th>item_category_id</th>\n",
       "      <th>item_category_name</th>\n",
       "      <th>shop_name</th>\n",
       "      <th>Year</th>\n",
       "      <th>Month</th>\n",
       "      <th>item_price</th>\n",
       "      <th>gross</th>\n",
       "      <th>open_days</th>\n",
       "      <th>all_shop_items_sold</th>\n",
       "      <th>all_shop_gross</th>\n",
       "      <th>global_sold</th>\n",
       "      <th>global_gross</th>\n",
       "      <th>global_cat_sold</th>\n",
       "      <th>global_cat_gross</th>\n",
       "      <th>cat_shop_sold</th>\n",
       "      <th>cat_shop_gross</th>\n",
       "      <th>item_cnt_day</th>\n",
       "    </tr>\n",
       "    <tr>\n",
       "      <th>date_block_num</th>\n",
       "      <th></th>\n",
       "      <th></th>\n",
       "      <th></th>\n",
       "      <th></th>\n",
       "      <th></th>\n",
       "      <th></th>\n",
       "      <th></th>\n",
       "      <th></th>\n",
       "      <th></th>\n",
       "      <th></th>\n",
       "      <th></th>\n",
       "      <th></th>\n",
       "      <th></th>\n",
       "      <th></th>\n",
       "      <th></th>\n",
       "      <th></th>\n",
       "      <th></th>\n",
       "      <th></th>\n",
       "      <th></th>\n",
       "      <th></th>\n",
       "    </tr>\n",
       "  </thead>\n",
       "  <tbody>\n",
       "    <tr>\n",
       "      <th>17</th>\n",
       "      <td>38</td>\n",
       "      <td>2196</td>\n",
       "      <td>COLDPLAY  Ghost Stories</td>\n",
       "      <td>55</td>\n",
       "      <td>Музыка - CD локального производства</td>\n",
       "      <td>Омск ТЦ \"Мега\"</td>\n",
       "      <td>2014</td>\n",
       "      <td>6</td>\n",
       "      <td>299.0</td>\n",
       "      <td>598.0</td>\n",
       "      <td>30.0</td>\n",
       "      <td>1467.0</td>\n",
       "      <td>1533191.0</td>\n",
       "      <td>145.0</td>\n",
       "      <td>43012.449219</td>\n",
       "      <td>10769.0</td>\n",
       "      <td>3077388.25</td>\n",
       "      <td>126.0</td>\n",
       "      <td>35179.00000</td>\n",
       "      <td>2.0</td>\n",
       "    </tr>\n",
       "    <tr>\n",
       "      <th>19</th>\n",
       "      <td>31</td>\n",
       "      <td>9964</td>\n",
       "      <td>ВОЗДУШНЫЙ МАРШАЛ</td>\n",
       "      <td>40</td>\n",
       "      <td>Кино - DVD</td>\n",
       "      <td>Москва ТЦ \"Семеновский\"</td>\n",
       "      <td>2014</td>\n",
       "      <td>8</td>\n",
       "      <td>399.0</td>\n",
       "      <td>2793.0</td>\n",
       "      <td>31.0</td>\n",
       "      <td>8248.0</td>\n",
       "      <td>5763062.5</td>\n",
       "      <td>93.0</td>\n",
       "      <td>36641.898438</td>\n",
       "      <td>15821.0</td>\n",
       "      <td>4307263.50</td>\n",
       "      <td>1841.0</td>\n",
       "      <td>474910.09375</td>\n",
       "      <td>7.0</td>\n",
       "    </tr>\n",
       "  </tbody>\n",
       "</table>\n",
       "</div>"
      ],
      "text/plain": [
       "               shop_id item_id                item_name item_category_id  \\\n",
       "date_block_num                                                             \n",
       "17                  38    2196  COLDPLAY  Ghost Stories               55   \n",
       "19                  31    9964         ВОЗДУШНЫЙ МАРШАЛ               40   \n",
       "\n",
       "                                 item_category_name                shop_name  \\\n",
       "date_block_num                                                                 \n",
       "17              Музыка - CD локального производства           Омск ТЦ \"Мега\"   \n",
       "19                                       Кино - DVD  Москва ТЦ \"Семеновский\"   \n",
       "\n",
       "                Year Month  item_price   gross  open_days  \\\n",
       "date_block_num                                              \n",
       "17              2014     6       299.0   598.0       30.0   \n",
       "19              2014     8       399.0  2793.0       31.0   \n",
       "\n",
       "                all_shop_items_sold  all_shop_gross  global_sold  \\\n",
       "date_block_num                                                     \n",
       "17                           1467.0       1533191.0        145.0   \n",
       "19                           8248.0       5763062.5         93.0   \n",
       "\n",
       "                global_gross  global_cat_sold  global_cat_gross  \\\n",
       "date_block_num                                                    \n",
       "17              43012.449219          10769.0        3077388.25   \n",
       "19              36641.898438          15821.0        4307263.50   \n",
       "\n",
       "                cat_shop_sold  cat_shop_gross  item_cnt_day  \n",
       "date_block_num                                               \n",
       "17                      126.0     35179.00000           2.0  \n",
       "19                     1841.0    474910.09375           7.0  "
      ]
     },
     "execution_count": 31,
     "metadata": {},
     "output_type": "execute_result"
    }
   ],
   "source": [
    "joined_samp.head(2)"
   ]
  },
  {
   "cell_type": "code",
   "execution_count": 36,
   "metadata": {
    "autoscroll": false,
    "collapsed": false,
    "ein.hycell": false,
    "ein.tags": "worksheet-0",
    "slideshow": {
     "slide_type": "-"
    }
   },
   "outputs": [
    {
     "name": "stderr",
     "output_type": "stream",
     "text": [
      "/home/paperspace/anaconda3/envs/fastai/lib/python3.6/site-packages/ipykernel_launcher.py:2: RuntimeWarning: divide by zero encountered in log\n",
      "  \n",
      "/home/paperspace/anaconda3/envs/fastai/lib/python3.6/site-packages/ipykernel_launcher.py:2: RuntimeWarning: invalid value encountered in log\n",
      "  \n"
     ]
    }
   ],
   "source": [
    "df, y, nas, mapper = proc_df(joined_samp, dep, do_scale=True, skip_flds=['gross'])\n",
    "yl = np.log(y)"
   ]
  },
  {
   "cell_type": "code",
   "execution_count": 37,
   "metadata": {
    "autoscroll": false,
    "collapsed": false,
    "ein.hycell": false,
    "ein.tags": "worksheet-0",
    "slideshow": {
     "slide_type": "-"
    }
   },
   "outputs": [
    {
     "data": {
      "text/plain": [
       "256"
      ]
     },
     "execution_count": 37,
     "metadata": {},
     "output_type": "execute_result"
    }
   ],
   "source": [
    "sum(y == 0.0)"
   ]
  },
  {
   "cell_type": "code",
   "execution_count": 38,
   "metadata": {
    "autoscroll": false,
    "collapsed": false,
    "ein.hycell": false,
    "ein.tags": "worksheet-0",
    "slideshow": {
     "slide_type": "-"
    }
   },
   "outputs": [
    {
     "data": {
      "text/html": [
       "<div>\n",
       "<style scoped>\n",
       "    .dataframe tbody tr th:only-of-type {\n",
       "        vertical-align: middle;\n",
       "    }\n",
       "\n",
       "    .dataframe tbody tr th {\n",
       "        vertical-align: top;\n",
       "    }\n",
       "\n",
       "    .dataframe thead th {\n",
       "        text-align: right;\n",
       "    }\n",
       "</style>\n",
       "<table border=\"1\" class=\"dataframe\">\n",
       "  <thead>\n",
       "    <tr style=\"text-align: right;\">\n",
       "      <th></th>\n",
       "      <th>shop_id</th>\n",
       "      <th>item_id</th>\n",
       "      <th>item_name</th>\n",
       "      <th>item_category_id</th>\n",
       "      <th>item_category_name</th>\n",
       "      <th>shop_name</th>\n",
       "      <th>Year</th>\n",
       "      <th>Month</th>\n",
       "      <th>item_price</th>\n",
       "      <th>open_days</th>\n",
       "      <th>all_shop_items_sold</th>\n",
       "      <th>all_shop_gross</th>\n",
       "      <th>global_sold</th>\n",
       "      <th>global_gross</th>\n",
       "      <th>global_cat_sold</th>\n",
       "      <th>global_cat_gross</th>\n",
       "      <th>cat_shop_sold</th>\n",
       "      <th>cat_shop_gross</th>\n",
       "    </tr>\n",
       "    <tr>\n",
       "      <th>date_block_num</th>\n",
       "      <th></th>\n",
       "      <th></th>\n",
       "      <th></th>\n",
       "      <th></th>\n",
       "      <th></th>\n",
       "      <th></th>\n",
       "      <th></th>\n",
       "      <th></th>\n",
       "      <th></th>\n",
       "      <th></th>\n",
       "      <th></th>\n",
       "      <th></th>\n",
       "      <th></th>\n",
       "      <th></th>\n",
       "      <th></th>\n",
       "      <th></th>\n",
       "      <th></th>\n",
       "      <th></th>\n",
       "    </tr>\n",
       "  </thead>\n",
       "  <tbody>\n",
       "    <tr>\n",
       "      <th>17</th>\n",
       "      <td>39</td>\n",
       "      <td>2152</td>\n",
       "      <td>2152</td>\n",
       "      <td>56</td>\n",
       "      <td>56</td>\n",
       "      <td>39</td>\n",
       "      <td>2</td>\n",
       "      <td>6</td>\n",
       "      <td>-0.324435</td>\n",
       "      <td>-0.054396</td>\n",
       "      <td>-0.721803</td>\n",
       "      <td>-0.610916</td>\n",
       "      <td>0.375586</td>\n",
       "      <td>-0.044211</td>\n",
       "      <td>0.168194</td>\n",
       "      <td>-0.316104</td>\n",
       "      <td>-0.401182</td>\n",
       "      <td>-0.542709</td>\n",
       "    </tr>\n",
       "    <tr>\n",
       "      <th>19</th>\n",
       "      <td>32</td>\n",
       "      <td>9776</td>\n",
       "      <td>9776</td>\n",
       "      <td>41</td>\n",
       "      <td>41</td>\n",
       "      <td>32</td>\n",
       "      <td>2</td>\n",
       "      <td>8</td>\n",
       "      <td>-0.258757</td>\n",
       "      <td>0.472730</td>\n",
       "      <td>1.852293</td>\n",
       "      <td>1.225618</td>\n",
       "      <td>0.149892</td>\n",
       "      <td>-0.058190</td>\n",
       "      <td>0.749037</td>\n",
       "      <td>-0.052203</td>\n",
       "      <td>3.097769</td>\n",
       "      <td>1.584466</td>\n",
       "    </tr>\n",
       "  </tbody>\n",
       "</table>\n",
       "</div>"
      ],
      "text/plain": [
       "                shop_id  item_id  item_name  item_category_id  \\\n",
       "date_block_num                                                  \n",
       "17                   39     2152       2152                56   \n",
       "19                   32     9776       9776                41   \n",
       "\n",
       "                item_category_name  shop_name  Year  Month  item_price  \\\n",
       "date_block_num                                                           \n",
       "17                              56         39     2      6   -0.324435   \n",
       "19                              41         32     2      8   -0.258757   \n",
       "\n",
       "                open_days  all_shop_items_sold  all_shop_gross  global_sold  \\\n",
       "date_block_num                                                                \n",
       "17              -0.054396            -0.721803       -0.610916     0.375586   \n",
       "19               0.472730             1.852293        1.225618     0.149892   \n",
       "\n",
       "                global_gross  global_cat_sold  global_cat_gross  \\\n",
       "date_block_num                                                    \n",
       "17                 -0.044211         0.168194         -0.316104   \n",
       "19                 -0.058190         0.749037         -0.052203   \n",
       "\n",
       "                cat_shop_sold  cat_shop_gross  \n",
       "date_block_num                                 \n",
       "17                  -0.401182       -0.542709  \n",
       "19                   3.097769        1.584466  "
      ]
     },
     "execution_count": 38,
     "metadata": {},
     "output_type": "execute_result"
    }
   ],
   "source": [
    "df.head(2)"
   ]
  },
  {
   "cell_type": "code",
   "execution_count": 39,
   "metadata": {
    "autoscroll": false,
    "collapsed": false,
    "ein.hycell": false,
    "ein.tags": "worksheet-0",
    "slideshow": {
     "slide_type": "-"
    }
   },
   "outputs": [],
   "source": [
    "val_idx = np.flatnonzero(df.index == max(df.index))"
   ]
  },
  {
   "cell_type": "code",
   "execution_count": 40,
   "metadata": {
    "autoscroll": false,
    "collapsed": false,
    "ein.hycell": false,
    "ein.tags": "worksheet-0",
    "slideshow": {
     "slide_type": "-"
    }
   },
   "outputs": [
    {
     "data": {
      "text/plain": [
       "(2956,)"
      ]
     },
     "execution_count": 40,
     "metadata": {},
     "output_type": "execute_result"
    }
   ],
   "source": [
    "val_idx.shape"
   ]
  },
  {
   "cell_type": "code",
   "execution_count": 41,
   "metadata": {
    "autoscroll": false,
    "collapsed": false,
    "ein.hycell": false,
    "ein.tags": "worksheet-0",
    "slideshow": {
     "slide_type": "-"
    }
   },
   "outputs": [
    {
     "data": {
      "text/plain": [
       "1609124"
      ]
     },
     "execution_count": 41,
     "metadata": {},
     "output_type": "execute_result"
    }
   ],
   "source": [
    "n"
   ]
  },
  {
   "cell_type": "code",
   "execution_count": 17,
   "metadata": {
    "autoscroll": false,
    "collapsed": false,
    "ein.hycell": false,
    "ein.tags": "worksheet-0",
    "slideshow": {
     "slide_type": "-"
    }
   },
   "outputs": [
    {
     "data": {
      "text/html": [
       "<div>\n",
       "<style scoped>\n",
       "    .dataframe tbody tr th:only-of-type {\n",
       "        vertical-align: middle;\n",
       "    }\n",
       "\n",
       "    .dataframe tbody tr th {\n",
       "        vertical-align: top;\n",
       "    }\n",
       "\n",
       "    .dataframe thead th {\n",
       "        text-align: right;\n",
       "    }\n",
       "</style>\n",
       "<table border=\"1\" class=\"dataframe\">\n",
       "  <thead>\n",
       "    <tr style=\"text-align: right;\">\n",
       "      <th></th>\n",
       "      <th>ID</th>\n",
       "      <th>shop_id</th>\n",
       "      <th>item_id</th>\n",
       "    </tr>\n",
       "  </thead>\n",
       "  <tbody>\n",
       "    <tr>\n",
       "      <th>0</th>\n",
       "      <td>0</td>\n",
       "      <td>5</td>\n",
       "      <td>5037</td>\n",
       "    </tr>\n",
       "    <tr>\n",
       "      <th>1</th>\n",
       "      <td>1</td>\n",
       "      <td>5</td>\n",
       "      <td>5320</td>\n",
       "    </tr>\n",
       "    <tr>\n",
       "      <th>2</th>\n",
       "      <td>2</td>\n",
       "      <td>5</td>\n",
       "      <td>5233</td>\n",
       "    </tr>\n",
       "    <tr>\n",
       "      <th>3</th>\n",
       "      <td>3</td>\n",
       "      <td>5</td>\n",
       "      <td>5232</td>\n",
       "    </tr>\n",
       "    <tr>\n",
       "      <th>4</th>\n",
       "      <td>4</td>\n",
       "      <td>5</td>\n",
       "      <td>5268</td>\n",
       "    </tr>\n",
       "  </tbody>\n",
       "</table>\n",
       "</div>"
      ],
      "text/plain": [
       "   ID  shop_id  item_id\n",
       "0   0        5     5037\n",
       "1   1        5     5320\n",
       "2   2        5     5233\n",
       "3   3        5     5232\n",
       "4   4        5     5268"
      ]
     },
     "execution_count": 17,
     "metadata": {},
     "output_type": "execute_result"
    }
   ],
   "source": [
    "test.head(5)"
   ]
  },
  {
   "cell_type": "markdown",
   "metadata": {
    "ein.tags": "worksheet-0",
    "slideshow": {
     "slide_type": "-"
    }
   },
   "source": [
    "The [competition page](https://www.kaggle.com/c/competitive-data-science-predict-future-sales#evaluation) says to use RMSE as metric:"
   ]
  },
  {
   "cell_type": "code",
   "execution_count": 1,
   "metadata": {
    "autoscroll": false,
    "collapsed": false,
    "ein.hycell": false,
    "ein.tags": "worksheet-0",
    "slideshow": {
     "slide_type": "-"
    }
   },
   "outputs": [
    {
     "ename": "NameError",
     "evalue": "name 'np' is not defined",
     "output_type": "error",
     "traceback": [
      "\u001b[0;31m---------------------------------------------------------------------------\u001b[0m",
      "\u001b[0;31mNameError\u001b[0m                                 Traceback (most recent call last)",
      "\u001b[0;32m<ipython-input-1-5ca07201fa11>\u001b[0m in \u001b[0;36m<module>\u001b[0;34m()\u001b[0m\n\u001b[1;32m      6\u001b[0m     \u001b[0;32mreturn\u001b[0m \u001b[0mmath\u001b[0m\u001b[0;34m.\u001b[0m\u001b[0msqrt\u001b[0m\u001b[0;34m(\u001b[0m\u001b[0;34m(\u001b[0m\u001b[0;34m(\u001b[0m\u001b[0mtarg\u001b[0m \u001b[0;34m-\u001b[0m \u001b[0minv_y\u001b[0m\u001b[0;34m(\u001b[0m\u001b[0my_pred\u001b[0m\u001b[0;34m)\u001b[0m\u001b[0;34m)\u001b[0m\u001b[0;34m**\u001b[0m\u001b[0;36m2\u001b[0m\u001b[0;34m)\u001b[0m\u001b[0;34m.\u001b[0m\u001b[0mmean\u001b[0m\u001b[0;34m(\u001b[0m\u001b[0;34m)\u001b[0m\u001b[0;34m)\u001b[0m\u001b[0;34m\u001b[0m\u001b[0m\n\u001b[1;32m      7\u001b[0m \u001b[0;34m\u001b[0m\u001b[0m\n\u001b[0;32m----> 8\u001b[0;31m \u001b[0mmax_log_y\u001b[0m \u001b[0;34m=\u001b[0m \u001b[0mnp\u001b[0m\u001b[0;34m.\u001b[0m\u001b[0mmax\u001b[0m\u001b[0;34m(\u001b[0m\u001b[0myl\u001b[0m\u001b[0;34m)\u001b[0m\u001b[0;34m\u001b[0m\u001b[0m\n\u001b[0m\u001b[1;32m      9\u001b[0m \u001b[0my_range\u001b[0m \u001b[0;34m=\u001b[0m \u001b[0;34m(\u001b[0m\u001b[0;36m0\u001b[0m\u001b[0;34m,\u001b[0m \u001b[0mmax_log_y\u001b[0m\u001b[0;34m*\u001b[0m\u001b[0;36m1.2\u001b[0m\u001b[0;34m)\u001b[0m\u001b[0;34m\u001b[0m\u001b[0m\n",
      "\u001b[0;31mNameError\u001b[0m: name 'np' is not defined"
     ]
    }
   ],
   "source": [
    "def inv_y(a): return np.exp(a)\n",
    "\n",
    "def exp_rmse(y_pred, targ):\n",
    "    targ = inv_y(targ)\n",
    "    pct_var = ()/targ\n",
    "    return math.sqrt(((targ - inv_y(y_pred))**2).mean())\n",
    "\n",
    "max_log_y = np.max(yl)\n",
    "y_range = (0, max_log_y*1.2)"
   ]
  },
  {
   "cell_type": "code",
   "execution_count": null,
   "metadata": {
    "autoscroll": false,
    "collapsed": false,
    "ein.hycell": false,
    "ein.tags": "worksheet-0",
    "slideshow": {
     "slide_type": "-"
    }
   },
   "outputs": [],
   "source": []
  },
  {
   "cell_type": "code",
   "execution_count": null,
   "metadata": {
    "autoscroll": false,
    "collapsed": false,
    "ein.hycell": false,
    "ein.tags": "worksheet-0",
    "slideshow": {
     "slide_type": "-"
    }
   },
   "outputs": [],
   "source": []
  }
 ],
 "metadata": {
  "kernelspec": {
   "display_name": "Python 3",
   "name": "python3"
  },
  "language_info": {
   "codemirror_mode": {
    "name": "ipython",
    "version": 3
   },
   "file_extension": ".py",
   "mimetype": "text/x-python",
   "name": "python",
   "nbconvert_exporter": "python",
   "pygments_lexer": "ipython3",
   "version": "3.6.5"
  },
  "name": "future-sales-prediction.ipynb"
 },
 "nbformat": 4,
 "nbformat_minor": 2
}
